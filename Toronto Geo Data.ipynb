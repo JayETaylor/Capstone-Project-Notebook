{
    "nbformat_minor": 1, 
    "cells": [
        {
            "execution_count": null, 
            "cell_type": "code", 
            "metadata": {}, 
            "outputs": [], 
            "source": "import bs4 as bs\nfrom bs4 import BeautifulSoup\n\nimport requests\nimport urllib.request\n\nimport numpy as np\n\nimport pandas as pd\npd.set_option('display.max_columns', None)\npd.set_option('display.max_rows', None)\n\nimport json\n\nfrom geopy.geocoders import Nominatim \n\nfrom pandas.io.json import json_normalize\n\nimport matplotlib.cm as cm\nimport matplotlib.colors as colors\n\n\nfrom sklearn.cluster import KMeans\n\nimport csv\nimport os\nimport urllib.request\n\nprint('Libraries imported.')"
        }, 
        {
            "execution_count": null, 
            "cell_type": "code", 
            "metadata": {}, 
            "outputs": [], 
            "source": "source = requests.get('https://en.wikipedia.org/wiki/List_of_postal_codes_of_Canada:_M').text\n\nsoup = BeautifulSoup(source,'lxml')\n\nMy_table = soup.find('table',{'class':'wikitable sortable'})\n\nlinks = My_table.find_all('a')\n\ntable = soup.find('table', attrs={'class':'wikitable'})\n\nprint('done')"
        }, 
        {
            "execution_count": null, 
            "cell_type": "code", 
            "metadata": {}, 
            "outputs": [], 
            "source": "table_data = table.tbody.find_all(\"tr\")\n\nl = []\nfor tr in table_data:\n    td = tr.find_all('td')\n    row = [tr.text for tr in td]\n    l.append(row)\ndf = pd.DataFrame(l, columns=[\"Postal Code\", \"Borough\", \"Neighborhood\"])\n\nprint('done')"
        }, 
        {
            "execution_count": null, 
            "cell_type": "code", 
            "metadata": {}, 
            "outputs": [], 
            "source": "df2 = df.groupby(by=['Postal Code', 'Borough']).agg(lambda x:', '.join(x))\n\ndf2.reset_index(level=['Postal Code','Borough'],inplace=True)\n\nprint('done')"
        }, 
        {
            "execution_count": null, 
            "cell_type": "code", 
            "metadata": {}, 
            "outputs": [], 
            "source": "df3 = df2[df2.Borough != 'Not assigned']\n\ndf3.reset_index(inplace=True)\n\nprint('Data Frame 3 st')"
        }, 
        {
            "execution_count": null, 
            "cell_type": "code", 
            "metadata": {}, 
            "outputs": [], 
            "source": "df4 = pd.read_csv (r'http://cocl.us/Geospatial_data')"
        }, 
        {
            "execution_count": null, 
            "cell_type": "code", 
            "metadata": {}, 
            "outputs": [], 
            "source": "df5 = pd.merge(df3, df4)\n\ndf5"
        }, 
        {
            "execution_count": null, 
            "cell_type": "code", 
            "metadata": {}, 
            "outputs": [], 
            "source": ""
        }
    ], 
    "metadata": {
        "kernelspec": {
            "display_name": "Python 3.6", 
            "name": "python3", 
            "language": "python"
        }, 
        "language_info": {
            "mimetype": "text/x-python", 
            "nbconvert_exporter": "python", 
            "version": "3.6.8", 
            "name": "python", 
            "file_extension": ".py", 
            "pygments_lexer": "ipython3", 
            "codemirror_mode": {
                "version": 3, 
                "name": "ipython"
            }
        }
    }, 
    "nbformat": 4
}